{
 "cells": [
  {
   "cell_type": "code",
   "execution_count": 5,
   "metadata": {
    "_cell_guid": "b1076dfc-b9ad-4769-8c92-a6c4dae69d19",
    "_uuid": "8f2839f25d086af736a60e9eeb907d3b93b6e0e5",
    "papermill": {
     "duration": 0.859166,
     "end_time": "2021-06-15T01:04:48.743922",
     "exception": false,
     "start_time": "2021-06-15T01:04:47.884756",
     "status": "completed"
    },
    "tags": []
   },
   "outputs": [],
   "source": [
    "import numpy as np \n",
    "import pandas as pd\n",
    "import matplotlib.pyplot as plt\n",
    "#from tqdm import tqdm\n",
    "from causal_ccm.causal_ccm import ccm"
   ]
  },
  {
   "cell_type": "code",
   "execution_count": 6,
   "metadata": {
    "papermill": {
     "duration": 0.099542,
     "end_time": "2021-06-15T01:04:48.857838",
     "exception": false,
     "start_time": "2021-06-15T01:04:48.758296",
     "status": "completed"
    },
    "tags": []
   },
   "outputs": [
    {
     "data": {
      "text/html": [
       "<div>\n",
       "<style scoped>\n",
       "    .dataframe tbody tr th:only-of-type {\n",
       "        vertical-align: middle;\n",
       "    }\n",
       "\n",
       "    .dataframe tbody tr th {\n",
       "        vertical-align: top;\n",
       "    }\n",
       "\n",
       "    .dataframe thead th {\n",
       "        text-align: right;\n",
       "    }\n",
       "</style>\n",
       "<table border=\"1\" class=\"dataframe\">\n",
       "  <thead>\n",
       "    <tr style=\"text-align: right;\">\n",
       "      <th></th>\n",
       "      <th>GroupKey</th>\n",
       "      <th>PrimaryKey</th>\n",
       "      <th>RelationKey</th>\n",
       "      <th>RelationType</th>\n",
       "      <th>Date</th>\n",
       "      <th>Value</th>\n",
       "      <th>DerivedFlag</th>\n",
       "      <th>DerivedLag</th>\n",
       "      <th>DerivedType</th>\n",
       "    </tr>\n",
       "  </thead>\n",
       "  <tbody>\n",
       "    <tr>\n",
       "      <th>0</th>\n",
       "      <td>A1</td>\n",
       "      <td>A1</td>\n",
       "      <td>A</td>\n",
       "      <td>ROOT</td>\n",
       "      <td>2020-01-01</td>\n",
       "      <td>41.0</td>\n",
       "      <td>NaN</td>\n",
       "      <td>NaN</td>\n",
       "      <td>none</td>\n",
       "    </tr>\n",
       "    <tr>\n",
       "      <th>1</th>\n",
       "      <td>A1</td>\n",
       "      <td>A1</td>\n",
       "      <td>A</td>\n",
       "      <td>ROOT</td>\n",
       "      <td>2020-01-02</td>\n",
       "      <td>36.0</td>\n",
       "      <td>NaN</td>\n",
       "      <td>NaN</td>\n",
       "      <td>none</td>\n",
       "    </tr>\n",
       "    <tr>\n",
       "      <th>2</th>\n",
       "      <td>A1</td>\n",
       "      <td>A1</td>\n",
       "      <td>A</td>\n",
       "      <td>ROOT</td>\n",
       "      <td>2020-01-03</td>\n",
       "      <td>34.0</td>\n",
       "      <td>NaN</td>\n",
       "      <td>NaN</td>\n",
       "      <td>none</td>\n",
       "    </tr>\n",
       "    <tr>\n",
       "      <th>3</th>\n",
       "      <td>A1</td>\n",
       "      <td>A1</td>\n",
       "      <td>A</td>\n",
       "      <td>ROOT</td>\n",
       "      <td>2020-01-04</td>\n",
       "      <td>38.0</td>\n",
       "      <td>NaN</td>\n",
       "      <td>NaN</td>\n",
       "      <td>none</td>\n",
       "    </tr>\n",
       "    <tr>\n",
       "      <th>4</th>\n",
       "      <td>A1</td>\n",
       "      <td>A1</td>\n",
       "      <td>A</td>\n",
       "      <td>ROOT</td>\n",
       "      <td>2020-01-05</td>\n",
       "      <td>30.0</td>\n",
       "      <td>NaN</td>\n",
       "      <td>NaN</td>\n",
       "      <td>none</td>\n",
       "    </tr>\n",
       "    <tr>\n",
       "      <th>...</th>\n",
       "      <td>...</td>\n",
       "      <td>...</td>\n",
       "      <td>...</td>\n",
       "      <td>...</td>\n",
       "      <td>...</td>\n",
       "      <td>...</td>\n",
       "      <td>...</td>\n",
       "      <td>...</td>\n",
       "      <td>...</td>\n",
       "    </tr>\n",
       "    <tr>\n",
       "      <th>10145</th>\n",
       "      <td>G1</td>\n",
       "      <td>G29</td>\n",
       "      <td>G1</td>\n",
       "      <td>RELATED</td>\n",
       "      <td>2020-02-15</td>\n",
       "      <td>4.0</td>\n",
       "      <td>0.0</td>\n",
       "      <td>NaN</td>\n",
       "      <td>none</td>\n",
       "    </tr>\n",
       "    <tr>\n",
       "      <th>10146</th>\n",
       "      <td>G1</td>\n",
       "      <td>G29</td>\n",
       "      <td>G1</td>\n",
       "      <td>RELATED</td>\n",
       "      <td>2020-02-16</td>\n",
       "      <td>5.0</td>\n",
       "      <td>0.0</td>\n",
       "      <td>NaN</td>\n",
       "      <td>none</td>\n",
       "    </tr>\n",
       "    <tr>\n",
       "      <th>10147</th>\n",
       "      <td>G1</td>\n",
       "      <td>G29</td>\n",
       "      <td>G1</td>\n",
       "      <td>RELATED</td>\n",
       "      <td>2020-02-17</td>\n",
       "      <td>4.0</td>\n",
       "      <td>0.0</td>\n",
       "      <td>NaN</td>\n",
       "      <td>none</td>\n",
       "    </tr>\n",
       "    <tr>\n",
       "      <th>10148</th>\n",
       "      <td>G1</td>\n",
       "      <td>G29</td>\n",
       "      <td>G1</td>\n",
       "      <td>RELATED</td>\n",
       "      <td>2020-02-18</td>\n",
       "      <td>4.0</td>\n",
       "      <td>0.0</td>\n",
       "      <td>NaN</td>\n",
       "      <td>none</td>\n",
       "    </tr>\n",
       "    <tr>\n",
       "      <th>10149</th>\n",
       "      <td>G1</td>\n",
       "      <td>G29</td>\n",
       "      <td>G1</td>\n",
       "      <td>RELATED</td>\n",
       "      <td>2020-02-19</td>\n",
       "      <td>3.0</td>\n",
       "      <td>0.0</td>\n",
       "      <td>NaN</td>\n",
       "      <td>none</td>\n",
       "    </tr>\n",
       "  </tbody>\n",
       "</table>\n",
       "<p>10150 rows × 9 columns</p>\n",
       "</div>"
      ],
      "text/plain": [
       "      GroupKey PrimaryKey RelationKey RelationType        Date  Value  \\\n",
       "0           A1         A1           A         ROOT  2020-01-01   41.0   \n",
       "1           A1         A1           A         ROOT  2020-01-02   36.0   \n",
       "2           A1         A1           A         ROOT  2020-01-03   34.0   \n",
       "3           A1         A1           A         ROOT  2020-01-04   38.0   \n",
       "4           A1         A1           A         ROOT  2020-01-05   30.0   \n",
       "...        ...        ...         ...          ...         ...    ...   \n",
       "10145       G1        G29          G1      RELATED  2020-02-15    4.0   \n",
       "10146       G1        G29          G1      RELATED  2020-02-16    5.0   \n",
       "10147       G1        G29          G1      RELATED  2020-02-17    4.0   \n",
       "10148       G1        G29          G1      RELATED  2020-02-18    4.0   \n",
       "10149       G1        G29          G1      RELATED  2020-02-19    3.0   \n",
       "\n",
       "       DerivedFlag  DerivedLag DerivedType  \n",
       "0              NaN         NaN        none  \n",
       "1              NaN         NaN        none  \n",
       "2              NaN         NaN        none  \n",
       "3              NaN         NaN        none  \n",
       "4              NaN         NaN        none  \n",
       "...            ...         ...         ...  \n",
       "10145          0.0         NaN        none  \n",
       "10146          0.0         NaN        none  \n",
       "10147          0.0         NaN        none  \n",
       "10148          0.0         NaN        none  \n",
       "10149          0.0         NaN        none  \n",
       "\n",
       "[10150 rows x 9 columns]"
      ]
     },
     "execution_count": 6,
     "metadata": {},
     "output_type": "execute_result"
    }
   ],
   "source": [
    "df = pd.read_csv('C:/Users/1evsa/Desktop/M/proj/rootanalysis/dados/Mock_dataset/MockDataset_train.csv')\n",
    "df"
   ]
  },
  {
   "cell_type": "code",
   "execution_count": 10,
   "metadata": {
    "papermill": {
     "duration": 8.753592,
     "end_time": "2021-06-15T01:04:57.663789",
     "exception": false,
     "start_time": "2021-06-15T01:04:48.910197",
     "status": "completed"
    },
    "tags": []
   },
   "outputs": [
    {
     "data": {
      "text/html": [
       "<div>\n",
       "<style scoped>\n",
       "    .dataframe tbody tr th:only-of-type {\n",
       "        vertical-align: middle;\n",
       "    }\n",
       "\n",
       "    .dataframe tbody tr th {\n",
       "        vertical-align: top;\n",
       "    }\n",
       "\n",
       "    .dataframe thead th {\n",
       "        text-align: right;\n",
       "    }\n",
       "</style>\n",
       "<table border=\"1\" class=\"dataframe\">\n",
       "  <thead>\n",
       "    <tr style=\"text-align: right;\">\n",
       "      <th></th>\n",
       "      <th>score</th>\n",
       "      <th>p-value</th>\n",
       "      <th>lag</th>\n",
       "      <th>flag</th>\n",
       "    </tr>\n",
       "  </thead>\n",
       "  <tbody>\n",
       "    <tr>\n",
       "      <th>A2</th>\n",
       "      <td>0.864359</td>\n",
       "      <td>2.709311e-12</td>\n",
       "      <td>12</td>\n",
       "      <td>1.0</td>\n",
       "    </tr>\n",
       "    <tr>\n",
       "      <th>A3</th>\n",
       "      <td>0.888898</td>\n",
       "      <td>1.741720e-15</td>\n",
       "      <td>7</td>\n",
       "      <td>1.0</td>\n",
       "    </tr>\n",
       "    <tr>\n",
       "      <th>A4</th>\n",
       "      <td>0.931006</td>\n",
       "      <td>1.155175e-18</td>\n",
       "      <td>9</td>\n",
       "      <td>1.0</td>\n",
       "    </tr>\n",
       "    <tr>\n",
       "      <th>A5</th>\n",
       "      <td>0.882795</td>\n",
       "      <td>2.280079e-14</td>\n",
       "      <td>9</td>\n",
       "      <td>1.0</td>\n",
       "    </tr>\n",
       "    <tr>\n",
       "      <th>A6</th>\n",
       "      <td>0.879871</td>\n",
       "      <td>3.587596e-14</td>\n",
       "      <td>9</td>\n",
       "      <td>1.0</td>\n",
       "    </tr>\n",
       "    <tr>\n",
       "      <th>...</th>\n",
       "      <td>...</td>\n",
       "      <td>...</td>\n",
       "      <td>...</td>\n",
       "      <td>...</td>\n",
       "    </tr>\n",
       "    <tr>\n",
       "      <th>G25</th>\n",
       "      <td>0.723777</td>\n",
       "      <td>8.928659e-08</td>\n",
       "      <td>9</td>\n",
       "      <td>0.0</td>\n",
       "    </tr>\n",
       "    <tr>\n",
       "      <th>G26</th>\n",
       "      <td>0.840852</td>\n",
       "      <td>3.928065e-11</td>\n",
       "      <td>12</td>\n",
       "      <td>0.0</td>\n",
       "    </tr>\n",
       "    <tr>\n",
       "      <th>G27</th>\n",
       "      <td>0.825228</td>\n",
       "      <td>1.031180e-10</td>\n",
       "      <td>11</td>\n",
       "      <td>0.0</td>\n",
       "    </tr>\n",
       "    <tr>\n",
       "      <th>G28</th>\n",
       "      <td>0.894225</td>\n",
       "      <td>5.806382e-17</td>\n",
       "      <td>4</td>\n",
       "      <td>0.0</td>\n",
       "    </tr>\n",
       "    <tr>\n",
       "      <th>G29</th>\n",
       "      <td>0.918475</td>\n",
       "      <td>6.225591e-19</td>\n",
       "      <td>5</td>\n",
       "      <td>0.0</td>\n",
       "    </tr>\n",
       "  </tbody>\n",
       "</table>\n",
       "<p>196 rows × 4 columns</p>\n",
       "</div>"
      ],
      "text/plain": [
       "        score       p-value  lag  flag\n",
       "A2   0.864359  2.709311e-12   12   1.0\n",
       "A3   0.888898  1.741720e-15    7   1.0\n",
       "A4   0.931006  1.155175e-18    9   1.0\n",
       "A5   0.882795  2.280079e-14    9   1.0\n",
       "A6   0.879871  3.587596e-14    9   1.0\n",
       "..        ...           ...  ...   ...\n",
       "G25  0.723777  8.928659e-08    9   0.0\n",
       "G26  0.840852  3.928065e-11   12   0.0\n",
       "G27  0.825228  1.031180e-10   11   0.0\n",
       "G28  0.894225  5.806382e-17    4   0.0\n",
       "G29  0.918475  6.225591e-19    5   0.0\n",
       "\n",
       "[196 rows x 4 columns]"
      ]
     },
     "execution_count": 10,
     "metadata": {},
     "output_type": "execute_result"
    }
   ],
   "source": [
    "df['Date'] = df['Date'].str.replace('-', '')\n",
    "df_res = pd.DataFrame()\n",
    "groups = pd.unique(df['GroupKey'])\n",
    "rs = {}\n",
    "for group in groups:\n",
    "    gr = df[df['GroupKey']==group]\n",
    "    pks = pd.unique(gr['PrimaryKey'])\n",
    "    res = {}\n",
    "    root = df[df['PrimaryKey']==group]['Value']\n",
    "    Y = root.tolist()\n",
    "    for key in pks[1:]:\n",
    "        rel=df[df['PrimaryKey']==key]['Value']\n",
    "        flag = df.loc[(df['PrimaryKey'] == key),'DerivedFlag'].values[0]\n",
    "        X = rel.tolist()\n",
    "        E = 2 \n",
    "        L = len(X)\n",
    "        max_s = 0\n",
    "        p=0\n",
    "        lag = None\n",
    "        #res = {'strength': max_s, 'p-value': p, 'lag': lag, 'flag': flag}\n",
    "        for tau in range(1,15):\n",
    "            ccm1 = ccm(X, Y, tau, E, L)\n",
    "            ccm2 = ccm1.causality()\n",
    "            \n",
    "            if ccm2[0]>max_s:\n",
    "                max_s=ccm2[0]\n",
    "                p=ccm2[1]\n",
    "                lag=tau\n",
    "            \n",
    "        res[key] = {'score': max_s, 'p-value': p, 'lag': lag, 'flag': flag}\n",
    "    df_res = pd.concat([df_res, pd.DataFrame.from_dict(res, orient='index')])\n",
    "    #rs[group] = res\n",
    "df_res"
   ]
  },
  {
   "cell_type": "code",
   "execution_count": 13,
   "metadata": {
    "papermill": {
     "duration": 0.023386,
     "end_time": "2021-06-15T01:04:57.702769",
     "exception": false,
     "start_time": "2021-06-15T01:04:57.679383",
     "status": "completed"
    },
    "tags": []
   },
   "outputs": [],
   "source": [
    "def conf_m_analysis(df, thresholds, m):\n",
    "    metrics = []\n",
    "    for threshold in range(1,20):\n",
    "        df['prediction'] = df['prediction'] = 0\n",
    "        df.loc[df['score'] > threshold, ['prediction']] = 1\n",
    "        conf_m = pd.crosstab(df['flag'], df['prediction'])"
   ]
  },
  {
   "cell_type": "code",
   "execution_count": 15,
   "metadata": {
    "papermill": {
     "duration": 0.165452,
     "end_time": "2021-06-15T01:04:57.883624",
     "exception": false,
     "start_time": "2021-06-15T01:04:57.718172",
     "status": "completed"
    },
    "tags": []
   },
   "outputs": [
    {
     "ename": "TypeError",
     "evalue": "'NoneType' object is not iterable",
     "output_type": "error",
     "traceback": [
      "\u001b[1;31m---------------------------------------------------------------------------\u001b[0m",
      "\u001b[1;31mTypeError\u001b[0m                                 Traceback (most recent call last)",
      "\u001b[1;32m<ipython-input-15-b460d9240db8>\u001b[0m in \u001b[0;36m<module>\u001b[1;34m\u001b[0m\n\u001b[0;32m      1\u001b[0m \u001b[0mthresholds\u001b[0m \u001b[1;33m=\u001b[0m \u001b[0mrange\u001b[0m\u001b[1;33m(\u001b[0m\u001b[1;36m1\u001b[0m\u001b[1;33m,\u001b[0m\u001b[1;36m20\u001b[0m\u001b[1;33m)\u001b[0m\u001b[1;33m\u001b[0m\u001b[1;33m\u001b[0m\u001b[0m\n\u001b[0;32m      2\u001b[0m \u001b[0mtests\u001b[0m \u001b[1;33m=\u001b[0m \u001b[1;33m[\u001b[0m\u001b[1;33m]\u001b[0m\u001b[1;33m\u001b[0m\u001b[1;33m\u001b[0m\u001b[0m\n\u001b[1;32m----> 3\u001b[1;33m \u001b[0mtests\u001b[0m \u001b[1;33m+=\u001b[0m \u001b[0mconf_m_analysis\u001b[0m\u001b[1;33m(\u001b[0m\u001b[0mdf_res\u001b[0m\u001b[1;33m,\u001b[0m \u001b[0mthresholds\u001b[0m\u001b[1;33m,\u001b[0m \u001b[1;34m'ssr_ftest'\u001b[0m\u001b[1;33m)\u001b[0m\u001b[1;33m\u001b[0m\u001b[1;33m\u001b[0m\u001b[0m\n\u001b[0m\u001b[0;32m      4\u001b[0m \u001b[1;33m\u001b[0m\u001b[0m\n\u001b[0;32m      5\u001b[0m \u001b[0mt\u001b[0m \u001b[1;33m=\u001b[0m \u001b[0mpd\u001b[0m\u001b[1;33m.\u001b[0m\u001b[0mDataFrame\u001b[0m\u001b[1;33m(\u001b[0m\u001b[0mtests\u001b[0m\u001b[1;33m)\u001b[0m\u001b[1;33m\u001b[0m\u001b[1;33m\u001b[0m\u001b[0m\n",
      "\u001b[1;31mTypeError\u001b[0m: 'NoneType' object is not iterable"
     ]
    }
   ],
   "source": [
    "thresholds = range(1,20)\n",
    "tests = []\n",
    "tests += conf_m_analysis(df_res, thresholds, 'ssr_ftest')\n",
    "\n",
    "t = pd.DataFrame(tests)\n",
    "print(t.sort_values(by=['f1-score'], ascending=False))"
   ]
  },
  {
   "cell_type": "code",
   "execution_count": 8,
   "metadata": {
    "execution": {
     "iopub.execute_input": "2021-06-15T01:04:57.944609Z",
     "iopub.status.busy": "2021-06-15T01:04:57.943914Z",
     "iopub.status.idle": "2021-06-15T01:04:58.142940Z",
     "shell.execute_reply": "2021-06-15T01:04:58.142246Z"
    },
    "papermill": {
     "duration": 0.243514,
     "end_time": "2021-06-15T01:04:58.143110",
     "exception": false,
     "start_time": "2021-06-15T01:04:57.899596",
     "status": "completed"
    },
    "tags": []
   },
   "outputs": [
    {
     "data": {
      "text/plain": [
       "<matplotlib.legend.Legend at 0x7fc9ff8e28d0>"
      ]
     },
     "execution_count": 8,
     "metadata": {},
     "output_type": "execute_result"
    },
    {
     "data": {
      "image/png": "[encoded data removed]",
      "text/plain": [
       "<Figure size 1152x288 with 1 Axes>"
      ]
     },
     "metadata": {
      "needs_background": "light"
     },
     "output_type": "display_data"
    }
   ],
   "source": [
    "dfA1=df[df['PrimaryKey']=='A1'][['Date','Value']]\n",
    "dfA2=df[df['PrimaryKey']=='A3'][['Date','Value']]\n",
    "A=dfA1['Value']\n",
    "B=dfA2['Value']\n",
    "\n",
    "plt.figure(figsize=(16,4))\n",
    "max_t = 100\n",
    "plt.plot(A[:max_t], linewidth=1.25, label='X')\n",
    "plt.plot(B[:max_t], c='r', linewidth=1.25, label='Y')\n",
    "plt.xlabel('timestep', size=15)\n",
    "plt.ylabel('value of A or B', size=15)\n",
    "plt.legend(prop={'size': 20})"
   ]
  },
  {
   "cell_type": "code",
   "execution_count": 9,
   "metadata": {
    "execution": {
     "iopub.execute_input": "2021-06-15T01:04:58.181217Z",
     "iopub.status.busy": "2021-06-15T01:04:58.180547Z",
     "iopub.status.idle": "2021-06-15T01:04:58.184128Z",
     "shell.execute_reply": "2021-06-15T01:04:58.184681Z"
    },
    "papermill": {
     "duration": 0.02423,
     "end_time": "2021-06-15T01:04:58.184854",
     "exception": false,
     "start_time": "2021-06-15T01:04:58.160624",
     "status": "completed"
    },
    "tags": []
   },
   "outputs": [],
   "source": [
    "A_list=A.tolist()\n",
    "B_list=B.tolist()"
   ]
  },
  {
   "cell_type": "code",
   "execution_count": 10,
   "metadata": {
    "execution": {
     "iopub.execute_input": "2021-06-15T01:04:58.223041Z",
     "iopub.status.busy": "2021-06-15T01:04:58.222443Z",
     "iopub.status.idle": "2021-06-15T01:04:58.231409Z",
     "shell.execute_reply": "2021-06-15T01:04:58.231986Z"
    },
    "papermill": {
     "duration": 0.029632,
     "end_time": "2021-06-15T01:04:58.232162",
     "exception": false,
     "start_time": "2021-06-15T01:04:58.202530",
     "status": "completed"
    },
    "tags": []
   },
   "outputs": [
    {
     "data": {
      "text/plain": [
       "(0.8888979798428334, 1.7417201628898685e-15)"
      ]
     },
     "execution_count": 10,
     "metadata": {},
     "output_type": "execute_result"
    }
   ],
   "source": [
    "tau = 7 # time lag\n",
    "E = 2 # shadow manifold embedding dimensions\n",
    "L = len(B_list) # length of time period to consider\n",
    "ccm1 = ccm(B_list, A_list, tau, E, L)\n",
    "ccm1.causality()"
   ]
  },
  {
   "cell_type": "code",
   "execution_count": 11,
   "metadata": {
    "execution": {
     "iopub.execute_input": "2021-06-15T01:04:58.270804Z",
     "iopub.status.busy": "2021-06-15T01:04:58.270234Z",
     "iopub.status.idle": "2021-06-15T01:04:59.150863Z",
     "shell.execute_reply": "2021-06-15T01:04:59.150299Z"
    },
    "papermill": {
     "duration": 0.900943,
     "end_time": "2021-06-15T01:04:59.151017",
     "exception": false,
     "start_time": "2021-06-15T01:04:58.250074",
     "status": "completed"
    },
    "tags": []
   },
   "outputs": [
    {
     "data": {
      "image/png": "[encoded data removed]",
      "text/plain": [
       "<Figure size 864x432 with 2 Axes>"
      ]
     },
     "metadata": {
      "needs_background": "light"
     },
     "output_type": "display_data"
    }
   ],
   "source": [
    "ccm1.visualize_cross_mapping()"
   ]
  },
  {
   "cell_type": "code",
   "execution_count": 12,
   "metadata": {
    "execution": {
     "iopub.execute_input": "2021-06-15T01:04:59.195451Z",
     "iopub.status.busy": "2021-06-15T01:04:59.194798Z",
     "iopub.status.idle": "2021-06-15T01:04:59.367557Z",
     "shell.execute_reply": "2021-06-15T01:04:59.367079Z"
    },
    "papermill": {
     "duration": 0.19695,
     "end_time": "2021-06-15T01:04:59.367692",
     "exception": false,
     "start_time": "2021-06-15T01:04:59.170742",
     "status": "completed"
    },
    "tags": []
   },
   "outputs": [
    {
     "data": {
      "image/png": "[encoded data removed]",
      "text/plain": [
       "<Figure size 432x288 with 1 Axes>"
      ]
     },
     "metadata": {
      "needs_background": "light"
     },
     "output_type": "display_data"
    }
   ],
   "source": [
    "ccm1.plot_ccm_correls()"
   ]
  },
  {
   "cell_type": "code",
   "execution_count": 13,
   "metadata": {
    "execution": {
     "iopub.execute_input": "2021-06-15T01:04:59.416838Z",
     "iopub.status.busy": "2021-06-15T01:04:59.415891Z",
     "iopub.status.idle": "2021-06-15T01:04:59.452716Z",
     "shell.execute_reply": "2021-06-15T01:04:59.452147Z"
    },
    "papermill": {
     "duration": 0.064925,
     "end_time": "2021-06-15T01:04:59.452856",
     "exception": false,
     "start_time": "2021-06-15T01:04:59.387931",
     "status": "completed"
    },
    "tags": []
   },
   "outputs": [
    {
     "name": "stderr",
     "output_type": "stream",
     "text": [
      "  7%|▋         | 1/15 [00:00<00:00, 118.13it/s]\n"
     ]
    },
    {
     "ename": "IndexError",
     "evalue": "list index out of range",
     "output_type": "error",
     "traceback": [
      "\u001b[0;31m---------------------------------------------------------------------------\u001b[0m",
      "\u001b[0;31mIndexError\u001b[0m                                Traceback (most recent call last)",
      "\u001b[0;32m<ipython-input-13-c935d6bd9dd5>\u001b[0m in \u001b[0;36m<module>\u001b[0;34m\u001b[0m\n\u001b[1;32m      7\u001b[0m \u001b[0mXhat_My\u001b[0m\u001b[0;34m,\u001b[0m \u001b[0mYhat_Mx\u001b[0m \u001b[0;34m=\u001b[0m \u001b[0;34m[\u001b[0m\u001b[0;34m]\u001b[0m\u001b[0;34m,\u001b[0m \u001b[0;34m[\u001b[0m\u001b[0;34m]\u001b[0m \u001b[0;31m# correlation list\u001b[0m\u001b[0;34m\u001b[0m\u001b[0;34m\u001b[0m\u001b[0m\n\u001b[1;32m      8\u001b[0m \u001b[0;32mfor\u001b[0m \u001b[0mL\u001b[0m \u001b[0;32min\u001b[0m \u001b[0mtqdm\u001b[0m\u001b[0;34m(\u001b[0m\u001b[0mL_range\u001b[0m\u001b[0;34m)\u001b[0m\u001b[0;34m:\u001b[0m\u001b[0;34m\u001b[0m\u001b[0;34m\u001b[0m\u001b[0m\n\u001b[0;32m----> 9\u001b[0;31m     \u001b[0mccm_XY\u001b[0m \u001b[0;34m=\u001b[0m \u001b[0mccm\u001b[0m\u001b[0;34m(\u001b[0m\u001b[0mB_list\u001b[0m\u001b[0;34m,\u001b[0m \u001b[0mA_list\u001b[0m\u001b[0;34m,\u001b[0m \u001b[0mtau\u001b[0m\u001b[0;34m,\u001b[0m \u001b[0mE\u001b[0m\u001b[0;34m,\u001b[0m \u001b[0mL\u001b[0m\u001b[0;34m)\u001b[0m \u001b[0;31m# define new ccm object # Testing for X -> Y\u001b[0m\u001b[0;34m\u001b[0m\u001b[0;34m\u001b[0m\u001b[0m\n\u001b[0m\u001b[1;32m     10\u001b[0m     \u001b[0mccm_YX\u001b[0m \u001b[0;34m=\u001b[0m \u001b[0mccm\u001b[0m\u001b[0;34m(\u001b[0m\u001b[0mA_list\u001b[0m\u001b[0;34m,\u001b[0m\u001b[0mB_list\u001b[0m\u001b[0;34m,\u001b[0m \u001b[0mtau\u001b[0m\u001b[0;34m,\u001b[0m \u001b[0mE\u001b[0m\u001b[0;34m,\u001b[0m \u001b[0mL\u001b[0m\u001b[0;34m)\u001b[0m \u001b[0;31m# define new ccm object # Testing for Y -> X\u001b[0m\u001b[0;34m\u001b[0m\u001b[0;34m\u001b[0m\u001b[0m\n\u001b[1;32m     11\u001b[0m     \u001b[0mXhat_My\u001b[0m\u001b[0;34m.\u001b[0m\u001b[0mappend\u001b[0m\u001b[0;34m(\u001b[0m\u001b[0mccm_XY\u001b[0m\u001b[0;34m.\u001b[0m\u001b[0mcausality\u001b[0m\u001b[0;34m(\u001b[0m\u001b[0;34m)\u001b[0m\u001b[0;34m[\u001b[0m\u001b[0;36m0\u001b[0m\u001b[0;34m]\u001b[0m\u001b[0;34m)\u001b[0m\u001b[0;34m\u001b[0m\u001b[0;34m\u001b[0m\u001b[0m\n",
      "\u001b[0;32m/opt/conda/lib/python3.7/site-packages/causal_ccm/causal_ccm.py\u001b[0m in \u001b[0;36m__init__\u001b[0;34m(self, X, Y, tau, E, L)\u001b[0m\n\u001b[1;32m     33\u001b[0m         \u001b[0;32melse\u001b[0m\u001b[0;34m:\u001b[0m\u001b[0;34m\u001b[0m\u001b[0;34m\u001b[0m\u001b[0m\n\u001b[1;32m     34\u001b[0m             \u001b[0mself\u001b[0m\u001b[0;34m.\u001b[0m\u001b[0mL\u001b[0m \u001b[0;34m=\u001b[0m \u001b[0mL\u001b[0m\u001b[0;34m\u001b[0m\u001b[0;34m\u001b[0m\u001b[0m\n\u001b[0;32m---> 35\u001b[0;31m         \u001b[0mself\u001b[0m\u001b[0;34m.\u001b[0m\u001b[0mMy\u001b[0m \u001b[0;34m=\u001b[0m \u001b[0mself\u001b[0m\u001b[0;34m.\u001b[0m\u001b[0mshadow_manifold\u001b[0m\u001b[0;34m(\u001b[0m\u001b[0mY\u001b[0m\u001b[0;34m)\u001b[0m \u001b[0;31m# shadow manifold for Y (we want to know if info from X is in Y)\u001b[0m\u001b[0;34m\u001b[0m\u001b[0;34m\u001b[0m\u001b[0m\n\u001b[0m\u001b[1;32m     36\u001b[0m         \u001b[0mself\u001b[0m\u001b[0;34m.\u001b[0m\u001b[0mt_steps\u001b[0m\u001b[0;34m,\u001b[0m \u001b[0mself\u001b[0m\u001b[0;34m.\u001b[0m\u001b[0mdists\u001b[0m \u001b[0;34m=\u001b[0m \u001b[0mself\u001b[0m\u001b[0;34m.\u001b[0m\u001b[0mget_distances\u001b[0m\u001b[0;34m(\u001b[0m\u001b[0mself\u001b[0m\u001b[0;34m.\u001b[0m\u001b[0mMy\u001b[0m\u001b[0;34m)\u001b[0m \u001b[0;31m# for distances between points in manifold\u001b[0m\u001b[0;34m\u001b[0m\u001b[0;34m\u001b[0m\u001b[0m\n\u001b[1;32m     37\u001b[0m \u001b[0;34m\u001b[0m\u001b[0m\n",
      "\u001b[0;32m/opt/conda/lib/python3.7/site-packages/causal_ccm/causal_ccm.py\u001b[0m in \u001b[0;36mshadow_manifold\u001b[0;34m(self, V)\u001b[0m\n\u001b[1;32m     51\u001b[0m             \u001b[0mv_lag\u001b[0m \u001b[0;34m=\u001b[0m \u001b[0;34m[\u001b[0m\u001b[0;34m]\u001b[0m \u001b[0;31m# lagged values\u001b[0m\u001b[0;34m\u001b[0m\u001b[0;34m\u001b[0m\u001b[0m\n\u001b[1;32m     52\u001b[0m             \u001b[0;32mfor\u001b[0m \u001b[0mt2\u001b[0m \u001b[0;32min\u001b[0m \u001b[0mrange\u001b[0m\u001b[0;34m(\u001b[0m\u001b[0;36m0\u001b[0m\u001b[0;34m,\u001b[0m \u001b[0mself\u001b[0m\u001b[0;34m.\u001b[0m\u001b[0mE\u001b[0m\u001b[0;34m-\u001b[0m\u001b[0;36m1\u001b[0m \u001b[0;34m+\u001b[0m \u001b[0;36m1\u001b[0m\u001b[0;34m)\u001b[0m\u001b[0;34m:\u001b[0m \u001b[0;31m# get lags, we add 1 to E-1 because we want to include E\u001b[0m\u001b[0;34m\u001b[0m\u001b[0;34m\u001b[0m\u001b[0m\n\u001b[0;32m---> 53\u001b[0;31m                 \u001b[0mv_lag\u001b[0m\u001b[0;34m.\u001b[0m\u001b[0mappend\u001b[0m\u001b[0;34m(\u001b[0m\u001b[0mV\u001b[0m\u001b[0;34m[\u001b[0m\u001b[0mt\u001b[0m\u001b[0;34m-\u001b[0m\u001b[0mt2\u001b[0m\u001b[0;34m*\u001b[0m\u001b[0mself\u001b[0m\u001b[0;34m.\u001b[0m\u001b[0mtau\u001b[0m\u001b[0;34m]\u001b[0m\u001b[0;34m)\u001b[0m\u001b[0;34m\u001b[0m\u001b[0;34m\u001b[0m\u001b[0m\n\u001b[0m\u001b[1;32m     54\u001b[0m             \u001b[0mM\u001b[0m\u001b[0;34m[\u001b[0m\u001b[0mt\u001b[0m\u001b[0;34m]\u001b[0m \u001b[0;34m=\u001b[0m \u001b[0mv_lag\u001b[0m\u001b[0;34m\u001b[0m\u001b[0;34m\u001b[0m\u001b[0m\n\u001b[1;32m     55\u001b[0m         \u001b[0;32mreturn\u001b[0m \u001b[0mM\u001b[0m\u001b[0;34m\u001b[0m\u001b[0;34m\u001b[0m\u001b[0m\n",
      "\u001b[0;31mIndexError\u001b[0m: list index out of range"
     ]
    }
   ],
   "source": [
    "# checking convergence\n",
    "# Looking at \"convergence\"\n",
    "L_range = range(50, 3000, 200) # L values to test\n",
    "tau = 1\n",
    "E = 2\n",
    "\n",
    "Xhat_My, Yhat_Mx = [], [] # correlation list\n",
    "for L in tqdm(L_range): \n",
    "    ccm_XY = ccm(B_list, A_list, tau, E, L) # define new ccm object # Testing for X -> Y\n",
    "    ccm_YX = ccm(A_list,B_list, tau, E, L) # define new ccm object # Testing for Y -> X    \n",
    "    Xhat_My.append(ccm_XY.causality()[0]) \n",
    "    Yhat_Mx.append(ccm_YX.causality()[0]) \n",
    "    \n",
    "# plot convergence as L->inf. Convergence is necessary to conclude causality\n",
    "plt.figure(figsize=(5,5))\n",
    "plt.plot(L_range, Xhat_My, label='$\\hat{X}(t)|M_y$')\n",
    "plt.plot(L_range, Yhat_Mx, c='r', label='$\\hat{Y}(t)|M_x$')\n",
    "plt.xlabel('L', size=15)\n",
    "plt.ylabel('correl', size=15)\n",
    "plt.legend(prop={'size': 20})"
   ]
  }
 ],
 "metadata": {
  "kernelspec": {
   "display_name": "Python 3",
   "language": "python",
   "name": "python3"
  },
  "language_info": {
   "codemirror_mode": {
    "name": "ipython",
    "version": 3
   },
   "file_extension": ".py",
   "mimetype": "text/x-python",
   "name": "python",
   "nbconvert_exporter": "python",
   "pygments_lexer": "ipython3",
   "version": "3.9.4"
  },
  "papermill": {
   "default_parameters": {},
   "duration": 30.366633,
   "end_time": "2021-06-15T01:05:00.183279",
   "environment_variables": {},
   "exception": null,
   "input_path": "__notebook__.ipynb",
   "output_path": "__notebook__.ipynb",
   "parameters": {},
   "start_time": "2021-06-15T01:04:29.816646",
   "version": "2.3.3"
  }
 },
 "nbformat": 4,
 "nbformat_minor": 5
}
