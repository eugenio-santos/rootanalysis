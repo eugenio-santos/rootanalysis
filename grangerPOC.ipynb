{
 "cells": [
  {
   "cell_type": "code",
   "execution_count": 5,
   "metadata": {},
   "outputs": [],
   "source": [
    "import numpy as np \n",
    "import pandas as pd\n",
    "import matplotlib.pyplot as plt\n",
    "import os\n",
    "import statsmodels.tsa.stattools as st\n",
    "from statsmodels.tsa.stattools import kpss\n",
    "from statsmodels.tsa.stattools import adfuller"
   ]
  },
  {
   "cell_type": "code",
   "execution_count": 6,
   "metadata": {},
   "outputs": [],
   "source": [
    "def adf_test(timeseries):\n",
    "    print ('Results of Dickey-Fuller Test:')\n",
    "    dftest = adfuller(timeseries, autolag='AIC')\n",
    "    dfoutput = pd.Series(dftest[0:4], index=['Test Statistic','p-value','#Lags Used','Number of Observations Used'])\n",
    "    for key,value in dftest[4].items():\n",
    "       dfoutput['Critical Value (%s)'%key] = value\n",
    "    print (dfoutput)\n",
    "    \n",
    "def kpss_test(timeseries):\n",
    "    print ('Results of KPSS Test:')\n",
    "    kpsstest = kpss(timeseries, regression='c', nlags=\"auto\")\n",
    "    kpss_output = pd.Series(kpsstest[0:3], index=['Test Statistic','p-value','Lags Used'])\n",
    "    for key,value in kpsstest[3].items():\n",
    "        kpss_output['Critical Value (%s)'%key] = value\n",
    "    print (kpss_output)"
   ]
  },
  {
   "cell_type": "code",
   "execution_count": 7,
   "metadata": {},
   "outputs": [
    {
     "data": {
      "text/html": [
       "<div>\n",
       "<style scoped>\n",
       "    .dataframe tbody tr th:only-of-type {\n",
       "        vertical-align: middle;\n",
       "    }\n",
       "\n",
       "    .dataframe tbody tr th {\n",
       "        vertical-align: top;\n",
       "    }\n",
       "\n",
       "    .dataframe thead th {\n",
       "        text-align: right;\n",
       "    }\n",
       "</style>\n",
       "<table border=\"1\" class=\"dataframe\">\n",
       "  <thead>\n",
       "    <tr style=\"text-align: right;\">\n",
       "      <th></th>\n",
       "      <th>GroupKey</th>\n",
       "      <th>PrimaryKey</th>\n",
       "      <th>RelationKey</th>\n",
       "      <th>RelationType</th>\n",
       "      <th>Date</th>\n",
       "      <th>Value</th>\n",
       "      <th>DerivedFlag</th>\n",
       "      <th>DerivedLag</th>\n",
       "      <th>DerivedType</th>\n",
       "    </tr>\n",
       "  </thead>\n",
       "  <tbody>\n",
       "    <tr>\n",
       "      <th>0</th>\n",
       "      <td>A1</td>\n",
       "      <td>A1</td>\n",
       "      <td>A</td>\n",
       "      <td>ROOT</td>\n",
       "      <td>2020-01-01</td>\n",
       "      <td>41.0</td>\n",
       "      <td>NaN</td>\n",
       "      <td>NaN</td>\n",
       "      <td>none</td>\n",
       "    </tr>\n",
       "    <tr>\n",
       "      <th>1</th>\n",
       "      <td>A1</td>\n",
       "      <td>A1</td>\n",
       "      <td>A</td>\n",
       "      <td>ROOT</td>\n",
       "      <td>2020-01-02</td>\n",
       "      <td>36.0</td>\n",
       "      <td>NaN</td>\n",
       "      <td>NaN</td>\n",
       "      <td>none</td>\n",
       "    </tr>\n",
       "    <tr>\n",
       "      <th>2</th>\n",
       "      <td>A1</td>\n",
       "      <td>A1</td>\n",
       "      <td>A</td>\n",
       "      <td>ROOT</td>\n",
       "      <td>2020-01-03</td>\n",
       "      <td>34.0</td>\n",
       "      <td>NaN</td>\n",
       "      <td>NaN</td>\n",
       "      <td>none</td>\n",
       "    </tr>\n",
       "    <tr>\n",
       "      <th>3</th>\n",
       "      <td>A1</td>\n",
       "      <td>A1</td>\n",
       "      <td>A</td>\n",
       "      <td>ROOT</td>\n",
       "      <td>2020-01-04</td>\n",
       "      <td>38.0</td>\n",
       "      <td>NaN</td>\n",
       "      <td>NaN</td>\n",
       "      <td>none</td>\n",
       "    </tr>\n",
       "    <tr>\n",
       "      <th>4</th>\n",
       "      <td>A1</td>\n",
       "      <td>A1</td>\n",
       "      <td>A</td>\n",
       "      <td>ROOT</td>\n",
       "      <td>2020-01-05</td>\n",
       "      <td>30.0</td>\n",
       "      <td>NaN</td>\n",
       "      <td>NaN</td>\n",
       "      <td>none</td>\n",
       "    </tr>\n",
       "    <tr>\n",
       "      <th>...</th>\n",
       "      <td>...</td>\n",
       "      <td>...</td>\n",
       "      <td>...</td>\n",
       "      <td>...</td>\n",
       "      <td>...</td>\n",
       "      <td>...</td>\n",
       "      <td>...</td>\n",
       "      <td>...</td>\n",
       "      <td>...</td>\n",
       "    </tr>\n",
       "    <tr>\n",
       "      <th>10145</th>\n",
       "      <td>G1</td>\n",
       "      <td>G29</td>\n",
       "      <td>G1</td>\n",
       "      <td>RELATED</td>\n",
       "      <td>2020-02-15</td>\n",
       "      <td>4.0</td>\n",
       "      <td>0.0</td>\n",
       "      <td>NaN</td>\n",
       "      <td>none</td>\n",
       "    </tr>\n",
       "    <tr>\n",
       "      <th>10146</th>\n",
       "      <td>G1</td>\n",
       "      <td>G29</td>\n",
       "      <td>G1</td>\n",
       "      <td>RELATED</td>\n",
       "      <td>2020-02-16</td>\n",
       "      <td>5.0</td>\n",
       "      <td>0.0</td>\n",
       "      <td>NaN</td>\n",
       "      <td>none</td>\n",
       "    </tr>\n",
       "    <tr>\n",
       "      <th>10147</th>\n",
       "      <td>G1</td>\n",
       "      <td>G29</td>\n",
       "      <td>G1</td>\n",
       "      <td>RELATED</td>\n",
       "      <td>2020-02-17</td>\n",
       "      <td>4.0</td>\n",
       "      <td>0.0</td>\n",
       "      <td>NaN</td>\n",
       "      <td>none</td>\n",
       "    </tr>\n",
       "    <tr>\n",
       "      <th>10148</th>\n",
       "      <td>G1</td>\n",
       "      <td>G29</td>\n",
       "      <td>G1</td>\n",
       "      <td>RELATED</td>\n",
       "      <td>2020-02-18</td>\n",
       "      <td>4.0</td>\n",
       "      <td>0.0</td>\n",
       "      <td>NaN</td>\n",
       "      <td>none</td>\n",
       "    </tr>\n",
       "    <tr>\n",
       "      <th>10149</th>\n",
       "      <td>G1</td>\n",
       "      <td>G29</td>\n",
       "      <td>G1</td>\n",
       "      <td>RELATED</td>\n",
       "      <td>2020-02-19</td>\n",
       "      <td>3.0</td>\n",
       "      <td>0.0</td>\n",
       "      <td>NaN</td>\n",
       "      <td>none</td>\n",
       "    </tr>\n",
       "  </tbody>\n",
       "</table>\n",
       "<p>10150 rows × 9 columns</p>\n",
       "</div>"
      ],
      "text/plain": [
       "      GroupKey PrimaryKey RelationKey RelationType        Date  Value  \\\n",
       "0           A1         A1           A         ROOT  2020-01-01   41.0   \n",
       "1           A1         A1           A         ROOT  2020-01-02   36.0   \n",
       "2           A1         A1           A         ROOT  2020-01-03   34.0   \n",
       "3           A1         A1           A         ROOT  2020-01-04   38.0   \n",
       "4           A1         A1           A         ROOT  2020-01-05   30.0   \n",
       "...        ...        ...         ...          ...         ...    ...   \n",
       "10145       G1        G29          G1      RELATED  2020-02-15    4.0   \n",
       "10146       G1        G29          G1      RELATED  2020-02-16    5.0   \n",
       "10147       G1        G29          G1      RELATED  2020-02-17    4.0   \n",
       "10148       G1        G29          G1      RELATED  2020-02-18    4.0   \n",
       "10149       G1        G29          G1      RELATED  2020-02-19    3.0   \n",
       "\n",
       "       DerivedFlag  DerivedLag DerivedType  \n",
       "0              NaN         NaN        none  \n",
       "1              NaN         NaN        none  \n",
       "2              NaN         NaN        none  \n",
       "3              NaN         NaN        none  \n",
       "4              NaN         NaN        none  \n",
       "...            ...         ...         ...  \n",
       "10145          0.0         NaN        none  \n",
       "10146          0.0         NaN        none  \n",
       "10147          0.0         NaN        none  \n",
       "10148          0.0         NaN        none  \n",
       "10149          0.0         NaN        none  \n",
       "\n",
       "[10150 rows x 9 columns]"
      ]
     },
     "execution_count": 7,
     "metadata": {},
     "output_type": "execute_result"
    }
   ],
   "source": [
    "df = pd.read_csv('./dados/Mock_dataset/MockDataset_train.csv')\n",
    "df"
   ]
  },
  {
   "cell_type": "code",
   "execution_count": 10,
   "metadata": {},
   "outputs": [],
   "source": [
    "dfA1=df[df['PrimaryKey']=='A1'][['Date','Value']]\n",
    "dfA2=df[df['PrimaryKey']=='A2'][['Date','Value']]\n",
    "dfA4=df[df['PrimaryKey']=='A4'][['Date','Value']]"
   ]
  },
  {
   "cell_type": "code",
   "execution_count": 11,
   "metadata": {},
   "outputs": [
    {
     "data": {
      "text/plain": [
       "<AxesSubplot:>"
      ]
     },
     "execution_count": 11,
     "metadata": {},
     "output_type": "execute_result"
    },
    {
     "data": {
      "image/png": "[encoded data removed]",
      "text/plain": [
       "<Figure size 432x288 with 1 Axes>"
      ]
     },
     "metadata": {
      "needs_background": "light"
     },
     "output_type": "display_data"
    }
   ],
   "source": [
    "dfA1.plot()"
   ]
  },
  {
   "cell_type": "code",
   "execution_count": 13,
   "metadata": {},
   "outputs": [
    {
     "name": "stdout",
     "output_type": "stream",
     "text": [
      "Results of Dickey-Fuller Test:\n",
      "Test Statistic                 -3.305990\n",
      "p-value                         0.014613\n",
      "#Lags Used                     10.000000\n",
      "Number of Observations Used    39.000000\n",
      "Critical Value (1%)            -3.610400\n",
      "Critical Value (5%)            -2.939109\n",
      "Critical Value (10%)           -2.608063\n",
      "dtype: float64\n"
     ]
    }
   ],
   "source": [
    "adf_test(dfA1['Value'])"
   ]
  },
  {
   "cell_type": "code",
   "execution_count": 15,
   "metadata": {},
   "outputs": [
    {
     "name": "stdout",
     "output_type": "stream",
     "text": [
      "Results of KPSS Test:\n",
      "Test Statistic           0.480221\n",
      "p-value                  0.046121\n",
      "Lags Used                4.000000\n",
      "Critical Value (10%)     0.347000\n",
      "Critical Value (5%)      0.463000\n",
      "Critical Value (2.5%)    0.574000\n",
      "Critical Value (1%)      0.739000\n",
      "dtype: float64\n"
     ]
    },
    {
     "data": {
      "text/plain": [
       "(None,\n",
       " (0.42249706884514376,\n",
       "  0.06745815998054148,\n",
       "  5,\n",
       "  {'10%': 0.347, '5%': 0.463, '2.5%': 0.574, '1%': 0.739}))"
      ]
     },
     "execution_count": 15,
     "metadata": {},
     "output_type": "execute_result"
    }
   ],
   "source": [
    "kpss_test(dfA1['Value']), kpss(dfA1['Value'], nlags=5)"
   ]
  },
  {
   "cell_type": "code",
   "execution_count": 12,
   "metadata": {},
   "outputs": [
    {
     "data": {
      "text/plain": [
       "<AxesSubplot:>"
      ]
     },
     "execution_count": 12,
     "metadata": {},
     "output_type": "execute_result"
    },
    {
     "data": {
      "image/png": "[encoded data removed]",
      "text/plain": [
       "<Figure size 432x288 with 1 Axes>"
      ]
     },
     "metadata": {
      "needs_background": "light"
     },
     "output_type": "display_data"
    }
   ],
   "source": [
    "#DIFERENCING\n",
    "dfA11=dfA1['Value']-dfA1['Value'].shift(1)\n",
    "dfA11=dfA11.dropna()\n",
    "dfA11.plot()"
   ]
  },
  {
   "cell_type": "code",
   "execution_count": 17,
   "metadata": {},
   "outputs": [],
   "source": [
    "df3=pd.merge(dfA1,dfA2,how='outer',on='Date')"
   ]
  },
  {
   "cell_type": "code",
   "execution_count": 18,
   "metadata": {},
   "outputs": [
    {
     "name": "stderr",
     "output_type": "stream",
     "text": [
      "No handles with labels found to put in legend.\n",
      "No handles with labels found to put in legend.\n"
     ]
    },
    {
     "data": {
      "text/plain": [
       "<Figure size 960000x480000 with 0 Axes>"
      ]
     },
     "metadata": {},
     "output_type": "display_data"
    },
    {
     "data": {
      "image/png": "[encoded data removed]",
      "text/plain": [
       "<Figure size 432x288 with 2 Axes>"
      ]
     },
     "metadata": {
      "needs_background": "light"
     },
     "output_type": "display_data"
    }
   ],
   "source": [
    "%matplotlib inline\n",
    "from matplotlib.pyplot import figure\n",
    "figure(num=None, figsize=(1200, 600), dpi=800)\n",
    "\n",
    "fig = plt.figure()\n",
    "ax = fig.add_subplot(111)\n",
    "ax.plot(df3['Date'],df3['Value_x'], 'r')\n",
    "ax2 = ax.twinx()\n",
    "ax2.plot(df3['Date'],df3['Value_y'], 'g')\n",
    "ax.set_ylabel(\"Value x\")\n",
    "ax2.set_ylabel(\"Value y\")\n",
    "ax.legend(loc=0)\n",
    "ax2.legend(loc=0)\n",
    "ax.grid()\n",
    "plt.show()"
   ]
  },
  {
   "cell_type": "code",
   "execution_count": 19,
   "metadata": {},
   "outputs": [
    {
     "data": {
      "text/plain": [
       "{'A1': {'A1': (2.1087734097711596e-14, 1),\n",
       "  'A2': (145.90778529628096, 3),\n",
       "  'A3': (11.502276140448885, 8),\n",
       "  'A4': (1.403284933704068, 7),\n",
       "  'A5': (0.730363069601094, 9),\n",
       "  'A6': (19.52325009024831, 1),\n",
       "  'A7': (20.595740484673062, 1),\n",
       "  'A8': (34.75991078393281, 1),\n",
       "  'A9': (23.459054008963697, 1),\n",
       "  'A10': (0.9452597084396256, 6),\n",
       "  'A11': (6.067707024563833, 1),\n",
       "  'A12': (4.786831932190039, 6),\n",
       "  'A13': (1.4783379497856437, 10),\n",
       "  'A14': (1.0058607366802337, 7),\n",
       "  'A15': (1.119005920391705, 10),\n",
       "  'A16': (0.8814256503013029, 1),\n",
       "  'A17': (1.4864173527025348, 1),\n",
       "  'A18': (1.2080822536008986, 6),\n",
       "  'A19': (6.456885321514563, 1),\n",
       "  'A20': (0.9520357378427233, 7),\n",
       "  'A21': (1.234626490585538, 8),\n",
       "  'A22': (0.8678894467148575, 4),\n",
       "  'A23': (1.3063388426375526, 4),\n",
       "  'A24': (0.8977031513671718, 10),\n",
       "  'A25': (0.9888684267383665, 10),\n",
       "  'A26': (5.354464671651531, 8),\n",
       "  'A27': (1.82522783044788, 1),\n",
       "  'A28': (1.6195160533148727, 8),\n",
       "  'A29': (3.5557160988417658, 7)},\n",
       " 'B1': {'B1': (1.2166269177389388e-14, 1),\n",
       "  'B2': (123.26968140165391, 5),\n",
       "  'B3': (12.249048431564209, 2),\n",
       "  'B4': (1.574033963252004, 8),\n",
       "  'B5': (1.4494299241840116, 9),\n",
       "  'B6': (426.3001469990889, 1),\n",
       "  'B7': (19.146709288873605, 2),\n",
       "  'B8': (108.65148515135436, 1),\n",
       "  'B9': (26.988014598064463, 2),\n",
       "  'B10': (1.9925388955548442, 5),\n",
       "  'B11': (2.1667245905753663, 1),\n",
       "  'B12': (5.781552694027611, 5),\n",
       "  'B13': (5.403250159840987, 5),\n",
       "  'B14': (2.67458214794784, 5),\n",
       "  'B15': (7.650101374236358, 5),\n",
       "  'B16': (3.3285033505240644, 8),\n",
       "  'B17': (7.87904053683092, 5),\n",
       "  'B18': (1.1811017723092914, 9),\n",
       "  'B19': (1.785551768146963, 2),\n",
       "  'B20': (1.1923729691751033, 5),\n",
       "  'B21': (1.9480625443872868, 9),\n",
       "  'B22': (2.3299396350052595, 3),\n",
       "  'B23': (16.031657859261887, 2),\n",
       "  'B24': (3.1321448249395636, 1),\n",
       "  'B25': (2.7337505846571175, 4),\n",
       "  'B26': (4.420525597727902, 7),\n",
       "  'B27': (2.966380372995702, 6),\n",
       "  'B28': (5.358261855475903, 5),\n",
       "  'B29': (11.489233494756206, 5)},\n",
       " 'C1': {'C1': (7.450668785957178e-15, 4),\n",
       "  'C2': (130.46679031234115, 3),\n",
       "  'C3': (4.282520548447104, 2),\n",
       "  'C4': (1.600806402751489, 2),\n",
       "  'C5': (3.4927637283932143, 1),\n",
       "  'C6': (17.44431579932009, 2),\n",
       "  'C7': (22.095447348145125, 2),\n",
       "  'C8': (15.402988543079784, 2),\n",
       "  'C9': (71.33573351495893, 1),\n",
       "  'C10': (7.520954546141142, 1),\n",
       "  'C11': (4.191397459752021, 8),\n",
       "  'C12': (2.7402635513581917, 1),\n",
       "  'C13': (8.206235531682943, 5),\n",
       "  'C14': (13.669681857154494, 3),\n",
       "  'C15': (2.6263761207217806, 5),\n",
       "  'C16': (0.5966154904429343, 6),\n",
       "  'C17': (2.6872408497818325, 6),\n",
       "  'C18': (6.499831727999676, 5),\n",
       "  'C19': (8.739280567443975, 2),\n",
       "  'C20': (3.6907669363766544, 5),\n",
       "  'C21': (8.045440564214209, 2),\n",
       "  'C22': (5.78650115816019, 1),\n",
       "  'C23': (2.5562443714277943, 5),\n",
       "  'C24': (0.9569800362832406, 8),\n",
       "  'C25': (9.772869734058675, 2),\n",
       "  'C26': (6.192221344200775, 3),\n",
       "  'C27': (4.686496620292385, 2),\n",
       "  'C28': (4.108623722191827, 2),\n",
       "  'C29': (3.3022798457230254, 5)},\n",
       " 'D1': {'D1': (2.3137116243983705e-15, 7),\n",
       "  'D2': (59.54602165763256, 5),\n",
       "  'D3': (18.28766307138148, 10),\n",
       "  'D4': (1.7670276641358815, 4),\n",
       "  'D5': (1.992212078335883, 8),\n",
       "  'D6': (42.708390009708836, 1),\n",
       "  'D7': (27.25412988145544, 7),\n",
       "  'D8': (27.092727045236476, 1),\n",
       "  'D9': (120.82834642358846, 1),\n",
       "  'D10': (3.568735581771487, 1),\n",
       "  'D11': (2.634802467973229, 2),\n",
       "  'D12': (13.013500127641883, 10),\n",
       "  'D13': (4.516020746318804, 10),\n",
       "  'D14': (1.6777373575968577, 7),\n",
       "  'D15': (2.8680825549302806, 6),\n",
       "  'D16': (8.25627042342656, 10),\n",
       "  'D17': (1.841145460199769, 4),\n",
       "  'D18': (2.8531610766559865, 5),\n",
       "  'D19': (1.5348454223003003, 1),\n",
       "  'D20': (6.278940852112398, 10),\n",
       "  'D21': (4.545156343706667, 2),\n",
       "  'D22': (3.128165343757873, 2),\n",
       "  'D23': (1.3232434007139178, 1),\n",
       "  'D24': (6.5547070084562495, 1),\n",
       "  'D25': (16.08099172352833, 7),\n",
       "  'D26': (25.618254671515203, 10),\n",
       "  'D27': (11.498052455474296, 10),\n",
       "  'D28': (1.1810840047616447, 4),\n",
       "  'D29': (5.0573353957657075, 1)},\n",
       " 'E1': {'E1': (4.937687135205464e-15, 3),\n",
       "  'E2': (196.01334087530955, 3),\n",
       "  'E3': (21.728135844883543, 9),\n",
       "  'E4': (1.8695411446728807, 5),\n",
       "  'E5': (0.6257592153908988, 10),\n",
       "  'E6': (28.756215821116818, 1),\n",
       "  'E7': (16.73830531574642, 1),\n",
       "  'E8': (61.25476552440547, 1),\n",
       "  'E9': (13.874815873890135, 1),\n",
       "  'E10': (3.7824477262905227, 5),\n",
       "  'E11': (3.7845892949535838, 3),\n",
       "  'E12': (7.545938409264783, 10),\n",
       "  'E13': (2.5570850633370106, 6),\n",
       "  'E14': (1.6902639976710785, 2),\n",
       "  'E15': (2.5655059163885308, 5),\n",
       "  'E16': (1.7985731573444412, 7),\n",
       "  'E17': (4.011897262348471, 2),\n",
       "  'E18': (1.5179176967550547, 9),\n",
       "  'E19': (4.309277014888992, 2),\n",
       "  'E20': (3.272267035117391, 10),\n",
       "  'E21': (7.2203916707680085, 10),\n",
       "  'E22': (1.8352330635656247, 4),\n",
       "  'E23': (3.165635792370625, 10),\n",
       "  'E24': (9.969118104950635, 1),\n",
       "  'E25': (20.50904390813694, 1),\n",
       "  'E26': (3.648039892261411, 10),\n",
       "  'E27': (4.8498520699758165, 8),\n",
       "  'E28': (4.548927118132155, 9),\n",
       "  'E29': (3.6381091684854536, 1)},\n",
       " 'F1': {'F1': (3.322781042654593e-14, 1),\n",
       "  'F2': (88.19410473705034, 5),\n",
       "  'F3': (19.519681405944034, 10),\n",
       "  'F4': (3.2876287047233346, 3),\n",
       "  'F5': (1.7838677824057756, 7),\n",
       "  'F6': (17.874184130688434, 2),\n",
       "  'F7': (88.03802195472404, 2),\n",
       "  'F8': (63.09987539288075, 2),\n",
       "  'F9': (26.376754394723672, 8),\n",
       "  'F10': (2.327031185912323, 7),\n",
       "  'F11': (6.39365861659927, 3),\n",
       "  'F12': (0.7074684653487296, 10),\n",
       "  'F13': (1.6332578447586306, 5),\n",
       "  'F14': (7.758136271443314, 3),\n",
       "  'F15': (1.1565716538849566, 4),\n",
       "  'F16': (1.1723254097120652, 7),\n",
       "  'F17': (2.8154715526104592, 3),\n",
       "  'F18': (0.7666153440504806, 10),\n",
       "  'F19': (5.486703067424745, 1),\n",
       "  'F20': (1.1552716429799428, 1),\n",
       "  'F21': (4.135380401487399, 3),\n",
       "  'F22': (3.689935837816425, 1),\n",
       "  'F23': (2.3791479052527, 4),\n",
       "  'F24': (10.82037380974625, 4),\n",
       "  'F25': (1.6878751771200087, 3),\n",
       "  'F26': (10.76286979019577, 10),\n",
       "  'F27': (0.7619976851575196, 4),\n",
       "  'F28': (1.1723201933847196, 7),\n",
       "  'F29': (7.1768071538806755, 3)},\n",
       " 'G1': {'G1': (2.6164286509321236e-15, 10),\n",
       "  'G2': (214.90803822889148, 3),\n",
       "  'G3': (10.932439220182234, 10),\n",
       "  'G4': (3.0665717721854806, 3),\n",
       "  'G5': (3.6104455495817946, 7),\n",
       "  'G6': (21.757753290432873, 1),\n",
       "  'G7': (133.75615215006064, 3),\n",
       "  'G8': (28.490742470839965, 1),\n",
       "  'G9': (33.90738835241623, 1),\n",
       "  'G10': (1.7490308524707863, 1),\n",
       "  'G11': (11.716810901634103, 6),\n",
       "  'G12': (13.067474879048403, 1),\n",
       "  'G13': (3.2374936695044005, 6),\n",
       "  'G14': (1.6078335843458311, 1),\n",
       "  'G15': (7.280688011236417, 1),\n",
       "  'G16': (19.98352272529856, 1),\n",
       "  'G17': (5.7818542441721785, 1),\n",
       "  'G18': (8.4725203798175, 6),\n",
       "  'G19': (4.1438384178226, 1),\n",
       "  'G20': (12.78708878728472, 1),\n",
       "  'G21': (2.2586321644612863, 7),\n",
       "  'G22': (2.4725623542707047, 6),\n",
       "  'G23': (2.145560478089411, 1),\n",
       "  'G24': (18.92019958897257, 1),\n",
       "  'G25': (2.0503297778501666, 6),\n",
       "  'G26': (1.1360447951589125, 1),\n",
       "  'G27': (4.586980369043649, 1),\n",
       "  'G28': (12.620997171426687, 4),\n",
       "  'G29': (11.162076152500282, 3)}}"
      ]
     },
     "execution_count": 19,
     "metadata": {},
     "output_type": "execute_result"
    }
   ],
   "source": [
    "df['Date'] = df['Date'].str.replace('-', '')\n",
    "\n",
    "groups = pd.unique(df['GroupKey'])\n",
    "rs = {}\n",
    "for group in groups:\n",
    "    gr = df[df['GroupKey']==group]\n",
    "    pks = pd.unique(gr['PrimaryKey'])\n",
    "    root = df[df['PrimaryKey']==group][['Date','Value']]\n",
    "\n",
    "    res = {}\n",
    "    num_lags = 10\n",
    "    for key in pks:\n",
    "        rel=df[df['PrimaryKey']==key][['Date', 'Value']]\n",
    "        VAR=pd.merge(root,rel,how='outer',on='Date')\n",
    "\n",
    "        gc = st.grangercausalitytests(VAR[['Value_x','Value_y']], maxlag=num_lags, verbose=False)\n",
    "\n",
    "        max_ = 0\n",
    "        max_lag = None\n",
    "        for lag, item in gc.items():\n",
    "            if item[0]['ssr_ftest'][0] > max_:\n",
    "                max_ = item[0]['ssr_ftest'][0]\n",
    "                max_lag = lag\n",
    "        res[key] = (max_, max_lag)\n",
    "    rs[group] = res\n",
    "rs"
   ]
  },
  {
   "cell_type": "code",
   "execution_count": null,
   "metadata": {},
   "outputs": [],
   "source": []
  }
 ],
 "metadata": {
  "kernelspec": {
   "display_name": "Python 3",
   "language": "python",
   "name": "python3"
  },
  "language_info": {
   "codemirror_mode": {
    "name": "ipython",
    "version": 3
   },
   "file_extension": ".py",
   "mimetype": "text/x-python",
   "name": "python",
   "nbconvert_exporter": "python",
   "pygments_lexer": "ipython3",
   "version": "3.9.4"
  }
 },
 "nbformat": 4,
 "nbformat_minor": 4
}
